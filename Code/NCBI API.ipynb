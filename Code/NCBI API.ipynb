{
 "cells": [
  {
   "cell_type": "markdown",
   "metadata": {},
   "source": [
    "<div class=\"alert alert-info\">\n",
    "    <h2 align=\"center\"> A new profiling approach for DNA sequences based on the nucleotides' physicochemical features: Corona case study</h2>\n",
    "    <h3 align=\"center\"><a href=\"http://sharif.edu/~koohi/\">Saeedeh Akbari Rokn Abadi</a>, <a href=\"http://sharif.edu/~koohi/\">Amirhossein Mohammadi</a>, <a href=\"http://sharif.edu/~koohi/\">Somayyeh Koohi</a></h3>\n",
    "</div>"
   ]
  },
  {
   "cell_type": "markdown",
   "metadata": {},
   "source": [
    "## Import Library and Modules"
   ]
  },
  {
   "cell_type": "code",
   "execution_count": 2,
   "metadata": {},
   "outputs": [],
   "source": [
    "import os\n",
    "from Bio import SeqIO\n",
    "from Bio import Entrez"
   ]
  },
  {
   "cell_type": "markdown",
   "metadata": {},
   "source": [
    "## Download From NCBI"
   ]
  },
  {
   "cell_type": "code",
   "execution_count": 3,
   "metadata": {},
   "outputs": [
    {
     "name": "stdout",
     "output_type": "stream",
     "text": [
      "Parsing...\n",
      "ID: AY545919.1\n",
      "Name: AY545919.1\n",
      "Description: AY545919.1 SARS coronavirus isolate CFB/SZ/94/03, complete genome\n",
      "Number of features: 0\n",
      "Seq('AGGAAAAGCCAACCAACCTCGATCTCTTGTAGATCTGTTCTCTAAACGAACTTT...AAA')\n"
     ]
    }
   ],
   "source": [
    "Entrez.email = \"https://pubmed.ncbi.nlm.nih.gov/\"  \n",
    "filename = \"AY545919.fasta\"\n",
    "if not os.path.isfile(filename):\n",
    "    # Downloading...\n",
    "    net_handle = Entrez.efetch(\n",
    "        db=\"nucleotide\", id=\"AY545919\", rettype=\"fasta\", retmode=\"text\"\n",
    "    )\n",
    "    out_handle = open(filename, \"w\")\n",
    "    out_handle.write(net_handle.read())\n",
    "    out_handle.close()\n",
    "    net_handle.close()\n",
    "    print(\"Saved\")\n",
    "\n",
    "print(\"Parsing...\")\n",
    "record = SeqIO.read(filename, \"fasta\")\n",
    "print(record)\n"
   ]
  }
 ],
 "metadata": {
  "kernelspec": {
   "display_name": "Python 3",
   "language": "python",
   "name": "python3"
  },
  "language_info": {
   "codemirror_mode": {
    "name": "ipython",
    "version": 3
   },
   "file_extension": ".py",
   "mimetype": "text/x-python",
   "name": "python",
   "nbconvert_exporter": "python",
   "pygments_lexer": "ipython3",
   "version": "3.8.5"
  }
 },
 "nbformat": 4,
 "nbformat_minor": 4
}

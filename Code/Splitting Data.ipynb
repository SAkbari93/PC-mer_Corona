{
 "cells": [
  {
   "cell_type": "markdown",
   "metadata": {},
   "source": [
    "<div class=\"alert alert-info\">\n",
    "    <h2 align=\"center\"> A new profiling approach for DNA sequences based on the nucleotides' physicochemical features: Corona case study</h2>\n",
    "    <h3 align=\"center\"><a href=\"http://sharif.edu/~koohi/\">Saeedeh Akbari Rokn Abadi</a>, <a href=\"http://sharif.edu/~koohi/\">Amirhossein Mohammadi</a>, <a href=\"http://sharif.edu/~koohi/\">Somayyeh Koohi</a></h3>\n",
    "</div>"
   ]
  },
  {
   "cell_type": "markdown",
   "metadata": {},
   "source": [
    "## Import Library and Modules"
   ]
  },
  {
   "cell_type": "code",
   "execution_count": 1,
   "metadata": {},
   "outputs": [],
   "source": [
    "import os\n",
    "from os import listdir\n",
    "from os.path import isfile, join"
   ]
  },
  {
   "cell_type": "markdown",
   "metadata": {},
   "source": [
    "## Read fata files (Not splitted Datasets)"
   ]
  },
  {
   "cell_type": "code",
   "execution_count": 9,
   "metadata": {},
   "outputs": [
    {
     "data": {
      "text/plain": [
       "['Adenoviridae.fasta', 'Anelloviridae.fasta']"
      ]
     },
     "execution_count": 9,
     "metadata": {},
     "output_type": "execute_result"
    }
   ],
   "source": [
    "mypath='Datasets' # Not Splitted Datasets path\n",
    "onlyfiles = [f for f in listdir(mypath) if isfile(join(mypath, f))]\n",
    "onlyfiles"
   ]
  },
  {
   "cell_type": "markdown",
   "metadata": {},
   "source": [
    "## Craete new folder for Splitted Dataset"
   ]
  },
  {
   "cell_type": "code",
   "execution_count": 5,
   "metadata": {},
   "outputs": [],
   "source": [
    "current_directory = os.getcwd()\n",
    "final_directory = os.path.join(current_directory, r'Splitted Dataset')\n",
    "if not os.path.exists(final_directory):\n",
    "    os.makedirs(final_directory)\n",
    "for i in range(len(onlyfiles)):\n",
    "    os.mkdir('Splitted Dataset/'+onlyfiles[i])"
   ]
  },
  {
   "cell_type": "markdown",
   "metadata": {},
   "source": [
    "## Splitting Dataset"
   ]
  },
  {
   "cell_type": "code",
   "execution_count": 7,
   "metadata": {},
   "outputs": [],
   "source": [
    "for i in range(len(onlyfiles)):\n",
    "    with open(mypath+'/'+onlyfiles[i]) as f:\n",
    "            content = f.readlines()\n",
    "    content = [x.strip() for x in content]\n",
    "    count=0\n",
    "    flag=1\n",
    "    for k in range(0,len(content)):\n",
    "        for j in range(0,len(content[k])):\n",
    "            if(content[k][j]=='>'):\n",
    "                count=count+1\n",
    "\n",
    "        f = open('Splitted Dataset/'+onlyfiles[i]+'/'+str(count)+'.txt', \"a\")\n",
    "        temp=content[k]\n",
    "        f.write(temp)\n",
    "        f.write(\"\\n\")\n",
    "        f.close()\n"
   ]
  }
 ],
 "metadata": {
  "kernelspec": {
   "display_name": "Python 3",
   "language": "python",
   "name": "python3"
  },
  "language_info": {
   "codemirror_mode": {
    "name": "ipython",
    "version": 3
   },
   "file_extension": ".py",
   "mimetype": "text/x-python",
   "name": "python",
   "nbconvert_exporter": "python",
   "pygments_lexer": "ipython3",
   "version": "3.8.5"
  }
 },
 "nbformat": 4,
 "nbformat_minor": 4
}
